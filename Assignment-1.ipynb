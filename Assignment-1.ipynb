{
  "nbformat": 4,
  "nbformat_minor": 0,
  "metadata": {
    "colab": {
      "provenance": []
    },
    "kernelspec": {
      "name": "python3",
      "display_name": "Python 3"
    },
    "language_info": {
      "name": "python"
    }
  },
  "cells": [
    {
      "cell_type": "code",
      "execution_count": 1,
      "metadata": {
        "id": "_mKhOydK3SJ2"
      },
      "outputs": [],
      "source": [
        "import numpy as np\n",
        "import pandas as pd\n",
        "from sklearn.model_selection import train_test_split\n",
        "from tensorflow.keras.models import Sequential\n",
        "from tensorflow.keras.layers import Dense\n",
        "from tensorflow.keras.optimizers import Adam"
      ]
    },
    {
      "cell_type": "code",
      "source": [
        "# Load the F1 Drivers dataset\n",
        "df = pd.read_csv('https://raw.githubusercontent.com/varijdave/AI-Algorithm/main/F1DriversDataset.csv')"
      ],
      "metadata": {
        "id": "qdUj9ANX3So8"
      },
      "execution_count": 2,
      "outputs": []
    },
    {
      "cell_type": "code",
      "source": [
        "# Select input features and output labels\n",
        "input_features = df[['Race_Starts', 'Pole_Positions', 'Podiums']]\n",
        "output_labels = df['Championships']"
      ],
      "metadata": {
        "id": "IAuIAd1Z3X8V"
      },
      "execution_count": 3,
      "outputs": []
    },
    {
      "cell_type": "code",
      "source": [
        "# Split the dataset into training and testing sets\n",
        "X_train, X_test, y_train, y_test = train_test_split(input_features, output_labels, test_size=0.2, random_state=42)"
      ],
      "metadata": {
        "id": "_kpbHzC63ang"
      },
      "execution_count": 4,
      "outputs": []
    },
    {
      "cell_type": "code",
      "source": [
        "# Build the ANN model\n",
        "model = Sequential()\n",
        "model.add(Dense(30, input_dim=3, activation='relu'))\n",
        "model.add(Dense(15, activation='relu'))\n",
        "model.add(Dense(1, activation='sigmoid'))"
      ],
      "metadata": {
        "id": "YUqV7Za43mtD"
      },
      "execution_count": 5,
      "outputs": []
    },
    {
      "cell_type": "code",
      "source": [
        "# Compile the model\n",
        "model.compile(optimizer=Adam(), loss='binary_crossentropy', metrics=['accuracy'])"
      ],
      "metadata": {
        "id": "9_yZ8gPu3ox6"
      },
      "execution_count": 6,
      "outputs": []
    },
    {
      "cell_type": "code",
      "source": [
        "# Train the model\n",
        "history = model.fit(X_train, y_train, epochs=10, batch_size=40, validation_data=(X_test, y_test))"
      ],
      "metadata": {
        "colab": {
          "base_uri": "https://localhost:8080/"
        },
        "id": "OzIFHlPt3q4h",
        "outputId": "67a8f165-662a-4208-b643-0bd1e505a58d"
      },
      "execution_count": 7,
      "outputs": [
        {
          "output_type": "stream",
          "name": "stdout",
          "text": [
            "Epoch 1/10\n",
            "18/18 [==============================] - 6s 35ms/step - loss: -0.2001 - accuracy: 0.7925 - val_loss: 0.4727 - val_accuracy: 0.6149\n",
            "Epoch 2/10\n",
            "18/18 [==============================] - 0s 8ms/step - loss: -0.7588 - accuracy: 0.8429 - val_loss: 0.1799 - val_accuracy: 0.9138\n",
            "Epoch 3/10\n",
            "18/18 [==============================] - 0s 8ms/step - loss: -1.1455 - accuracy: 0.8948 - val_loss: 0.2110 - val_accuracy: 0.9023\n",
            "Epoch 4/10\n",
            "18/18 [==============================] - 0s 14ms/step - loss: -1.5728 - accuracy: 0.8833 - val_loss: 0.1133 - val_accuracy: 0.9023\n",
            "Epoch 5/10\n",
            "18/18 [==============================] - 0s 7ms/step - loss: -1.9815 - accuracy: 0.8732 - val_loss: 0.0580 - val_accuracy: 0.9023\n",
            "Epoch 6/10\n",
            "18/18 [==============================] - 0s 7ms/step - loss: -2.4256 - accuracy: 0.8718 - val_loss: -0.0374 - val_accuracy: 0.9023\n",
            "Epoch 7/10\n",
            "18/18 [==============================] - 0s 8ms/step - loss: -2.9327 - accuracy: 0.8602 - val_loss: 0.0154 - val_accuracy: 0.8908\n",
            "Epoch 8/10\n",
            "18/18 [==============================] - 0s 9ms/step - loss: -3.5829 - accuracy: 0.8991 - val_loss: -0.6213 - val_accuracy: 0.9368\n",
            "Epoch 9/10\n",
            "18/18 [==============================] - 0s 12ms/step - loss: -4.2828 - accuracy: 0.9207 - val_loss: -0.5784 - val_accuracy: 0.9195\n",
            "Epoch 10/10\n",
            "18/18 [==============================] - 0s 9ms/step - loss: -4.6461 - accuracy: 0.8703 - val_loss: -0.2050 - val_accuracy: 0.8966\n"
          ]
        }
      ]
    },
    {
      "cell_type": "code",
      "source": [
        "# Evaluate the model\n",
        "loss, accuracy = model.evaluate(X_test, y_test)"
      ],
      "metadata": {
        "colab": {
          "base_uri": "https://localhost:8080/"
        },
        "id": "g9RXGtud3t5l",
        "outputId": "b523e1e6-ee3d-436a-e2dd-0169740be91f"
      },
      "execution_count": 8,
      "outputs": [
        {
          "output_type": "stream",
          "name": "stdout",
          "text": [
            "6/6 [==============================] - 0s 6ms/step - loss: -0.2050 - accuracy: 0.8966\n"
          ]
        }
      ]
    },
    {
      "cell_type": "code",
      "source": [
        "# Print the accuracy\n",
        "print(f'Test Accuracy: {accuracy}')"
      ],
      "metadata": {
        "colab": {
          "base_uri": "https://localhost:8080/"
        },
        "id": "mj_NJQUk3w8t",
        "outputId": "f0202427-f578-4ad7-bc5a-50bda49e9a7b"
      },
      "execution_count": 9,
      "outputs": [
        {
          "output_type": "stream",
          "name": "stdout",
          "text": [
            "Test Accuracy: 0.8965517282485962\n"
          ]
        }
      ]
    },
    {
      "cell_type": "code",
      "source": [],
      "metadata": {
        "id": "Ytvouuis3z59"
      },
      "execution_count": 9,
      "outputs": []
    }
  ]
}